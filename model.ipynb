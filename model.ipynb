{
 "cells": [
  {
   "cell_type": "code",
   "execution_count": 1,
   "id": "latest-interstate",
   "metadata": {},
   "outputs": [],
   "source": [
    "import numpy as np\n",
    "import matplotlib.pyplot as plt\n",
    "from utils import *\n",
    "X_train,Y_train = read_csv('train_emoji.csv')\n",
    "X_test, Y_test = read_csv('tesss.csv')"
   ]
  },
  {
   "cell_type": "code",
   "execution_count": 2,
   "id": "killing-substitute",
   "metadata": {},
   "outputs": [],
   "source": [
    "word_to_index, index_to_word, word_to_vec_map = read_glove_vecs('glove.6B.50d.txt')"
   ]
  },
  {
   "cell_type": "code",
   "execution_count": 3,
   "id": "behavioral-trinity",
   "metadata": {},
   "outputs": [],
   "source": [
    "np.random.seed(0)\n",
    "from keras.models import Model\n",
    "from keras.layers import Dense, Input, Dropout, LSTM, Activation\n",
    "from keras.layers.embeddings import Embedding\n",
    "from keras.preprocessing import sequence\n",
    "from keras.initializers import glorot_uniform\n",
    "np.random.seed(1)"
   ]
  },
  {
   "cell_type": "code",
   "execution_count": 4,
   "id": "experimental-proceeding",
   "metadata": {},
   "outputs": [],
   "source": [
    "def sentences_to_indices(X, word_to_index, max_len):\n",
    "    m = X.shape[0]                                  \n",
    "    X_indices = np.zeros((m,max_len))\n",
    "    for i in range(m):               \n",
    "        sentence_words = [w.lower() for w in X[i].split()]\n",
    "        j = 0\n",
    "        for w in sentence_words:\n",
    "            X_indices[i, j] = word_to_index[w]\n",
    "            j = j+1    \n",
    "    return X_indices"
   ]
  },
  {
   "cell_type": "code",
   "execution_count": 5,
   "id": "improving-innocent",
   "metadata": {},
   "outputs": [],
   "source": [
    "def pretrained_embedding_layer(word_to_vec_map, word_to_index):\n",
    "    vocab_len = len(word_to_index) + 1                  \n",
    "    emb_dim = word_to_vec_map[\"cucumber\"].shape[0]      \n",
    "    emb_matrix = np.zeros((vocab_len, emb_dim))\n",
    "    for word, idx in word_to_index.items():\n",
    "        emb_matrix[idx, :] = word_to_vec_map[word]\n",
    "    embedding_layer = Embedding(vocab_len, emb_dim, trainable=False)\n",
    "    embedding_layer.build((None,)) # Do not modify the \"None\".  This line of code is complete as-is.\n",
    "    embedding_layer.set_weights([emb_matrix])\n",
    "    \n",
    "    return embedding_layer"
   ]
  },
  {
   "cell_type": "code",
   "execution_count": 6,
   "id": "modular-keyboard",
   "metadata": {},
   "outputs": [],
   "source": [
    "def predict_your_feel(input_shape, word_to_vec_map, word_to_index):\n",
    "    sentence_indices = Input(input_shape, dtype='int32')\n",
    "    embedding_layer = pretrained_embedding_layer(word_to_vec_map, word_to_index)\n",
    "    embeddings = embedding_layer(sentence_indices)    \n",
    "    X = LSTM(128, return_sequences=True)(embeddings)\n",
    "    X = Dropout(0.5)(X)\n",
    "    X = LSTM(128, return_sequences=False)(X)\n",
    "    X = Dropout(0.5)(X)\n",
    "    X = Dense(5)(X)\n",
    "    X = Activation('softmax')(X)\n",
    "    model = Model(inputs=sentence_indices, outputs=X)\n",
    "    return model"
   ]
  },
  {
   "cell_type": "code",
   "execution_count": 7,
   "id": "grand-sport",
   "metadata": {},
   "outputs": [],
   "source": [
    "maxLen = len(max(X_train, key=len).split())\n",
    "model = predict_your_feel((maxLen,), word_to_vec_map, word_to_index)\n",
    "model.compile(loss='categorical_crossentropy', optimizer='adam', metrics=['accuracy'])\n",
    "X_train_indices = sentences_to_indices(X_train, word_to_index, maxLen)\n",
    "Y_train_oh = convert_to_one_hot(Y_train, C = 5)"
   ]
  },
  {
   "cell_type": "code",
   "execution_count": 8,
   "id": "binding-cosmetic",
   "metadata": {},
   "outputs": [
    {
     "name": "stdout",
     "output_type": "stream",
     "text": [
      "Epoch 1/50\n",
      "5/5 [==============================] - 6s 91ms/step - loss: 1.5916 - accuracy: 0.2549\n",
      "Epoch 2/50\n",
      "5/5 [==============================] - 0s 98ms/step - loss: 1.5033 - accuracy: 0.3215\n",
      "Epoch 3/50\n",
      "5/5 [==============================] - 0s 62ms/step - loss: 1.4573 - accuracy: 0.4233\n",
      "Epoch 4/50\n",
      "5/5 [==============================] - 0s 68ms/step - loss: 1.3904 - accuracy: 0.3509\n",
      "Epoch 5/50\n",
      "5/5 [==============================] - 0s 84ms/step - loss: 1.2847 - accuracy: 0.5346\n",
      "Epoch 6/50\n",
      "5/5 [==============================] - 0s 47ms/step - loss: 1.1651 - accuracy: 0.5676\n",
      "Epoch 7/50\n",
      "5/5 [==============================] - 0s 56ms/step - loss: 1.0718 - accuracy: 0.5751\n",
      "Epoch 8/50\n",
      "5/5 [==============================] - 0s 38ms/step - loss: 0.9488 - accuracy: 0.6330\n",
      "Epoch 9/50\n",
      "5/5 [==============================] - 0s 69ms/step - loss: 0.8561 - accuracy: 0.6362\n",
      "Epoch 10/50\n",
      "5/5 [==============================] - 0s 59ms/step - loss: 0.7369 - accuracy: 0.6810\n",
      "Epoch 11/50\n",
      "5/5 [==============================] - 0s 51ms/step - loss: 0.5955 - accuracy: 0.8122\n",
      "Epoch 12/50\n",
      "5/5 [==============================] - 0s 58ms/step - loss: 0.5588 - accuracy: 0.7729\n",
      "Epoch 13/50\n",
      "5/5 [==============================] - 0s 38ms/step - loss: 0.7315 - accuracy: 0.7648\n",
      "Epoch 14/50\n",
      "5/5 [==============================] - 0s 40ms/step - loss: 0.6136 - accuracy: 0.7784\n",
      "Epoch 15/50\n",
      "5/5 [==============================] - 0s 60ms/step - loss: 0.4374 - accuracy: 0.8625\n",
      "Epoch 16/50\n",
      "5/5 [==============================] - 0s 43ms/step - loss: 0.5160 - accuracy: 0.7776\n",
      "Epoch 17/50\n",
      "5/5 [==============================] - 0s 72ms/step - loss: 0.5055 - accuracy: 0.8281\n",
      "Epoch 18/50\n",
      "5/5 [==============================] - 0s 61ms/step - loss: 0.3510 - accuracy: 0.8827\n",
      "Epoch 19/50\n",
      "5/5 [==============================] - 0s 73ms/step - loss: 0.3242 - accuracy: 0.8982\n",
      "Epoch 20/50\n",
      "5/5 [==============================] - 0s 80ms/step - loss: 0.2591 - accuracy: 0.9037\n",
      "Epoch 21/50\n",
      "5/5 [==============================] - 0s 61ms/step - loss: 0.2578 - accuracy: 0.9094\n",
      "Epoch 22/50\n",
      "5/5 [==============================] - 0s 60ms/step - loss: 0.2461 - accuracy: 0.8903\n",
      "Epoch 23/50\n",
      "5/5 [==============================] - 0s 69ms/step - loss: 0.2743 - accuracy: 0.9055\n",
      "Epoch 24/50\n",
      "5/5 [==============================] - 0s 57ms/step - loss: 0.2081 - accuracy: 0.9107\n",
      "Epoch 25/50\n",
      "5/5 [==============================] - 0s 65ms/step - loss: 0.2301 - accuracy: 0.9257\n",
      "Epoch 26/50\n",
      "5/5 [==============================] - 0s 63ms/step - loss: 0.2383 - accuracy: 0.9165\n",
      "Epoch 27/50\n",
      "5/5 [==============================] - 0s 53ms/step - loss: 0.2857 - accuracy: 0.9036\n",
      "Epoch 28/50\n",
      "5/5 [==============================] - 0s 48ms/step - loss: 0.2920 - accuracy: 0.8765\n",
      "Epoch 29/50\n",
      "5/5 [==============================] - 0s 42ms/step - loss: 0.2440 - accuracy: 0.9198\n",
      "Epoch 30/50\n",
      "5/5 [==============================] - 0s 93ms/step - loss: 0.2879 - accuracy: 0.9125\n",
      "Epoch 31/50\n",
      "5/5 [==============================] - 0s 71ms/step - loss: 0.3048 - accuracy: 0.9029\n",
      "Epoch 32/50\n",
      "5/5 [==============================] - 0s 57ms/step - loss: 0.1855 - accuracy: 0.9476\n",
      "Epoch 33/50\n",
      "5/5 [==============================] - 0s 55ms/step - loss: 0.2481 - accuracy: 0.9373\n",
      "Epoch 34/50\n",
      "5/5 [==============================] - 0s 60ms/step - loss: 0.2106 - accuracy: 0.9484\n",
      "Epoch 35/50\n",
      "5/5 [==============================] - 0s 29ms/step - loss: 0.1479 - accuracy: 0.9670\n",
      "Epoch 36/50\n",
      "5/5 [==============================] - 0s 51ms/step - loss: 0.1369 - accuracy: 0.9635\n",
      "Epoch 37/50\n",
      "5/5 [==============================] - 0s 40ms/step - loss: 0.0883 - accuracy: 0.9824\n",
      "Epoch 38/50\n",
      "5/5 [==============================] - 0s 64ms/step - loss: 0.1204 - accuracy: 0.9569\n",
      "Epoch 39/50\n",
      "5/5 [==============================] - 0s 49ms/step - loss: 0.0716 - accuracy: 0.9732\n",
      "Epoch 40/50\n",
      "5/5 [==============================] - 0s 62ms/step - loss: 0.0529 - accuracy: 0.9918\n",
      "Epoch 41/50\n",
      "5/5 [==============================] - 0s 62ms/step - loss: 0.0481 - accuracy: 0.9866\n",
      "Epoch 42/50\n",
      "5/5 [==============================] - 0s 66ms/step - loss: 0.0445 - accuracy: 0.9975\n",
      "Epoch 43/50\n",
      "5/5 [==============================] - 0s 46ms/step - loss: 0.1101 - accuracy: 0.9654\n",
      "Epoch 44/50\n",
      "5/5 [==============================] - 0s 51ms/step - loss: 0.0561 - accuracy: 0.9944\n",
      "Epoch 45/50\n",
      "5/5 [==============================] - 0s 65ms/step - loss: 0.0904 - accuracy: 0.9677\n",
      "Epoch 46/50\n",
      "5/5 [==============================] - 0s 87ms/step - loss: 0.0354 - accuracy: 0.9944\n",
      "Epoch 47/50\n",
      "5/5 [==============================] - 0s 59ms/step - loss: 0.0382 - accuracy: 0.9866\n",
      "Epoch 48/50\n",
      "5/5 [==============================] - 0s 61ms/step - loss: 0.0124 - accuracy: 1.0000\n",
      "Epoch 49/50\n",
      "5/5 [==============================] - 0s 59ms/step - loss: 0.0149 - accuracy: 1.0000\n",
      "Epoch 50/50\n",
      "5/5 [==============================] - 0s 69ms/step - loss: 0.0309 - accuracy: 0.9918\n"
     ]
    },
    {
     "data": {
      "text/plain": [
       "<tensorflow.python.keras.callbacks.History at 0x7fac0be2ea10>"
      ]
     },
     "execution_count": 8,
     "metadata": {},
     "output_type": "execute_result"
    }
   ],
   "source": [
    "model.fit(X_train_indices, Y_train_oh, epochs = 50, batch_size = 32, shuffle=True)"
   ]
  },
  {
   "cell_type": "code",
   "execution_count": 9,
   "id": "neither-nightlife",
   "metadata": {},
   "outputs": [
    {
     "name": "stdout",
     "output_type": "stream",
     "text": [
      "2/2 [==============================] - 1s 27ms/step - loss: 0.4808 - accuracy: 0.8571\n",
      "\n",
      "Test accuracy =  0.8571428656578064\n"
     ]
    }
   ],
   "source": [
    "X_test_indices = sentences_to_indices(X_test, word_to_index, max_len = maxLen)\n",
    "Y_test_oh = convert_to_one_hot(Y_test, C = 5)\n",
    "loss, acc = model.evaluate(X_test_indices, Y_test_oh)\n",
    "print()\n",
    "print(\"Test accuracy = \", acc)"
   ]
  },
  {
   "cell_type": "code",
   "execution_count": 10,
   "id": "prescription-outline",
   "metadata": {},
   "outputs": [
    {
     "ename": "NameError",
     "evalue": "name 'emoji' is not defined",
     "output_type": "error",
     "traceback": [
      "\u001b[0;31m---------------------------------------------------------------------------\u001b[0m",
      "\u001b[0;31mNameError\u001b[0m                                 Traceback (most recent call last)",
      "\u001b[0;32m<ipython-input-10-2c15409621e6>\u001b[0m in \u001b[0;36m<module>\u001b[0;34m\u001b[0m\n\u001b[1;32m      2\u001b[0m \u001b[0mx_test\u001b[0m \u001b[0;34m=\u001b[0m \u001b[0mnp\u001b[0m\u001b[0;34m.\u001b[0m\u001b[0marray\u001b[0m\u001b[0;34m(\u001b[0m\u001b[0;34m[\u001b[0m\u001b[0;34m'please love me :)'\u001b[0m\u001b[0;34m]\u001b[0m\u001b[0;34m)\u001b[0m\u001b[0;34m\u001b[0m\u001b[0;34m\u001b[0m\u001b[0m\n\u001b[1;32m      3\u001b[0m \u001b[0mX_test_indices\u001b[0m \u001b[0;34m=\u001b[0m \u001b[0msentences_to_indices\u001b[0m\u001b[0;34m(\u001b[0m\u001b[0mx_test\u001b[0m\u001b[0;34m,\u001b[0m \u001b[0mword_to_index\u001b[0m\u001b[0;34m,\u001b[0m \u001b[0mmaxLen\u001b[0m\u001b[0;34m)\u001b[0m\u001b[0;34m\u001b[0m\u001b[0;34m\u001b[0m\u001b[0m\n\u001b[0;32m----> 4\u001b[0;31m \u001b[0mprint\u001b[0m\u001b[0;34m(\u001b[0m\u001b[0mx_test\u001b[0m\u001b[0;34m[\u001b[0m\u001b[0;36m0\u001b[0m\u001b[0;34m]\u001b[0m \u001b[0;34m+\u001b[0m\u001b[0;34m' '\u001b[0m\u001b[0;34m+\u001b[0m  \u001b[0mlabel_to_emoji\u001b[0m\u001b[0;34m(\u001b[0m\u001b[0mnp\u001b[0m\u001b[0;34m.\u001b[0m\u001b[0margmax\u001b[0m\u001b[0;34m(\u001b[0m\u001b[0mmodel\u001b[0m\u001b[0;34m.\u001b[0m\u001b[0mpredict\u001b[0m\u001b[0;34m(\u001b[0m\u001b[0mX_test_indices\u001b[0m\u001b[0;34m)\u001b[0m\u001b[0;34m)\u001b[0m\u001b[0;34m)\u001b[0m\u001b[0;34m)\u001b[0m\u001b[0;34m\u001b[0m\u001b[0;34m\u001b[0m\u001b[0m\n\u001b[0m",
      "\u001b[0;32m~/Desktop/sentecnes_predictor/utils.py\u001b[0m in \u001b[0;36mlabel_to_emoji\u001b[0;34m(label)\u001b[0m\n\u001b[1;32m     61\u001b[0m     \u001b[0mConverts\u001b[0m \u001b[0ma\u001b[0m \u001b[0mlabel\u001b[0m \u001b[0;34m(\u001b[0m\u001b[0mint\u001b[0m \u001b[0;32mor\u001b[0m \u001b[0mstring\u001b[0m\u001b[0;34m)\u001b[0m \u001b[0minto\u001b[0m \u001b[0mthe\u001b[0m \u001b[0mcorresponding\u001b[0m \u001b[0memoji\u001b[0m \u001b[0mcode\u001b[0m \u001b[0;34m(\u001b[0m\u001b[0mstring\u001b[0m\u001b[0;34m)\u001b[0m \u001b[0mready\u001b[0m \u001b[0mto\u001b[0m \u001b[0mbe\u001b[0m \u001b[0mprinted\u001b[0m\u001b[0;34m\u001b[0m\u001b[0;34m\u001b[0m\u001b[0m\n\u001b[1;32m     62\u001b[0m     \"\"\"\n\u001b[0;32m---> 63\u001b[0;31m     \u001b[0;32mreturn\u001b[0m \u001b[0memoji\u001b[0m\u001b[0;34m.\u001b[0m\u001b[0memojize\u001b[0m\u001b[0;34m(\u001b[0m\u001b[0memoji_dictionary\u001b[0m\u001b[0;34m[\u001b[0m\u001b[0mstr\u001b[0m\u001b[0;34m(\u001b[0m\u001b[0mlabel\u001b[0m\u001b[0;34m)\u001b[0m\u001b[0;34m]\u001b[0m\u001b[0;34m,\u001b[0m \u001b[0muse_aliases\u001b[0m\u001b[0;34m=\u001b[0m\u001b[0;32mTrue\u001b[0m\u001b[0;34m)\u001b[0m\u001b[0;34m\u001b[0m\u001b[0;34m\u001b[0m\u001b[0m\n\u001b[0m\u001b[1;32m     64\u001b[0m \u001b[0;34m\u001b[0m\u001b[0m\n\u001b[1;32m     65\u001b[0m \u001b[0;34m\u001b[0m\u001b[0m\n",
      "\u001b[0;31mNameError\u001b[0m: name 'emoji' is not defined"
     ]
    }
   ],
   "source": [
    "# enter your sentences here\n",
    "x_test = np.array(['please love me :)'])\n",
    "X_test_indices = sentences_to_indices(x_test, word_to_index, maxLen)\n",
    "print(x_test[0] +' '+  label_to_emoji(np.argmax(model.predict(X_test_indices))))"
   ]
  },
  {
   "cell_type": "code",
   "execution_count": null,
   "id": "distant-capital",
   "metadata": {},
   "outputs": [],
   "source": []
  }
 ],
 "metadata": {
  "kernelspec": {
   "display_name": "py37",
   "language": "python",
   "name": "py37"
  },
  "language_info": {
   "codemirror_mode": {
    "name": "ipython",
    "version": 3
   },
   "file_extension": ".py",
   "mimetype": "text/x-python",
   "name": "python",
   "nbconvert_exporter": "python",
   "pygments_lexer": "ipython3",
   "version": "3.7.10"
  }
 },
 "nbformat": 4,
 "nbformat_minor": 5
}
