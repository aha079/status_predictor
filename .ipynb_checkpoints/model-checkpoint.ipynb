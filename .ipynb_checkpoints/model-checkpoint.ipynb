{
 "cells": [
  {
   "cell_type": "code",
   "execution_count": 1,
   "id": "latest-interstate",
   "metadata": {},
   "outputs": [],
   "source": [
    "import numpy as np\n",
    "import matplotlib.pyplot as plt\n",
    "from utils import *\n",
    "X_train,Y_train = read_csv('train_emoji.csv')\n",
    "X_test, Y_test = read_csv('tesss.csv')"
   ]
  },
  {
   "cell_type": "code",
   "execution_count": 2,
   "id": "killing-substitute",
   "metadata": {},
   "outputs": [],
   "source": [
    "word_to_index, index_to_word, word_to_vec_map = read_glove_vecs('glove.6B.50d.txt')"
   ]
  },
  {
   "cell_type": "code",
   "execution_count": 3,
   "id": "behavioral-trinity",
   "metadata": {},
   "outputs": [],
   "source": [
    "np.random.seed(0)\n",
    "from keras.models import Model\n",
    "from keras.layers import Dense, Input, Dropout, LSTM, Activation\n",
    "from keras.layers.embeddings import Embedding\n",
    "from keras.preprocessing import sequence\n",
    "from keras.initializers import glorot_uniform\n",
    "np.random.seed(1)"
   ]
  },
  {
   "cell_type": "code",
   "execution_count": 4,
   "id": "experimental-proceeding",
   "metadata": {},
   "outputs": [],
   "source": [
    "def sentences_to_indices(X, word_to_index, max_len):\n",
    "    m = X.shape[0]                                  \n",
    "    X_indices = np.zeros((m,max_len))\n",
    "    for i in range(m):               \n",
    "        sentence_words = [w.lower() for w in X[i].split()]\n",
    "        j = 0\n",
    "        for w in sentence_words:\n",
    "            X_indices[i, j] = word_to_index[w]\n",
    "            j = j+1    \n",
    "    return X_indices"
   ]
  },
  {
   "cell_type": "code",
   "execution_count": 5,
   "id": "improving-innocent",
   "metadata": {},
   "outputs": [],
   "source": [
    "def pretrained_embedding_layer(word_to_vec_map, word_to_index):\n",
    "    vocab_len = len(word_to_index) + 1                  \n",
    "    emb_dim = word_to_vec_map[\"cucumber\"].shape[0]      \n",
    "    emb_matrix = np.zeros((vocab_len, emb_dim))\n",
    "    for word, idx in word_to_index.items():\n",
    "        emb_matrix[idx, :] = word_to_vec_map[word]\n",
    "    embedding_layer = Embedding(vocab_len, emb_dim, trainable=False)\n",
    "    embedding_layer.build((None,)) # Do not modify the \"None\".  This line of code is complete as-is.\n",
    "    embedding_layer.set_weights([emb_matrix])\n",
    "    \n",
    "    return embedding_layer"
   ]
  },
  {
   "cell_type": "code",
   "execution_count": 6,
   "id": "modular-keyboard",
   "metadata": {},
   "outputs": [],
   "source": [
    "def predict_your_feel(input_shape, word_to_vec_map, word_to_index):\n",
    "    sentence_indices = Input(input_shape, dtype='int32')\n",
    "    embedding_layer = pretrained_embedding_layer(word_to_vec_map, word_to_index)\n",
    "    embeddings = embedding_layer(sentence_indices)    \n",
    "    X = LSTM(128, return_sequences=True)(embeddings)\n",
    "    X = Dropout(0.5)(X)\n",
    "    X = LSTM(128, return_sequences=False)(X)\n",
    "    X = Dropout(0.5)(X)\n",
    "    X = Dense(5)(X)\n",
    "    X = Activation('softmax')(X)\n",
    "    model = Model(inputs=sentence_indices, outputs=X)\n",
    "    return model"
   ]
  },
  {
   "cell_type": "code",
   "execution_count": 7,
   "id": "grand-sport",
   "metadata": {},
   "outputs": [],
   "source": [
    "maxLen = len(max(X_train, key=len).split())\n",
    "model = predict_your_feel((maxLen,), word_to_vec_map, word_to_index)\n",
    "model.compile(loss='categorical_crossentropy', optimizer='adam', metrics=['accuracy'])\n",
    "X_train_indices = sentences_to_indices(X_train, word_to_index, maxLen)\n",
    "Y_train_oh = convert_to_one_hot(Y_train, C = 5)"
   ]
  },
  {
   "cell_type": "code",
   "execution_count": 8,
   "id": "binding-cosmetic",
   "metadata": {},
   "outputs": [
    {
     "name": "stdout",
     "output_type": "stream",
     "text": [
      "Epoch 1/50\n",
      "5/5 [==============================] - 5s 40ms/step - loss: 1.5939 - accuracy: 0.2176\n",
      "Epoch 2/50\n",
      "5/5 [==============================] - 0s 61ms/step - loss: 1.5389 - accuracy: 0.3117\n",
      "Epoch 3/50\n",
      "5/5 [==============================] - 0s 62ms/step - loss: 1.4843 - accuracy: 0.4076\n",
      "Epoch 4/50\n",
      "5/5 [==============================] - 0s 52ms/step - loss: 1.4314 - accuracy: 0.3813\n",
      "Epoch 5/50\n",
      "5/5 [==============================] - 0s 62ms/step - loss: 1.2786 - accuracy: 0.5700\n",
      "Epoch 6/50\n",
      "5/5 [==============================] - 0s 53ms/step - loss: 1.1896 - accuracy: 0.5626\n",
      "Epoch 7/50\n",
      "5/5 [==============================] - 0s 61ms/step - loss: 0.9980 - accuracy: 0.6441\n",
      "Epoch 8/50\n",
      "5/5 [==============================] - 0s 58ms/step - loss: 0.8074 - accuracy: 0.7009\n",
      "Epoch 9/50\n",
      "5/5 [==============================] - 0s 56ms/step - loss: 0.6898 - accuracy: 0.7251\n",
      "Epoch 10/50\n",
      "5/5 [==============================] - 0s 57ms/step - loss: 0.6200 - accuracy: 0.8006\n",
      "Epoch 11/50\n",
      "5/5 [==============================] - 0s 57ms/step - loss: 0.5718 - accuracy: 0.7812\n",
      "Epoch 12/50\n",
      "5/5 [==============================] - 0s 57ms/step - loss: 0.5181 - accuracy: 0.7927\n",
      "Epoch 13/50\n",
      "5/5 [==============================] - 0s 60ms/step - loss: 0.5428 - accuracy: 0.7906\n",
      "Epoch 14/50\n",
      "5/5 [==============================] - 0s 56ms/step - loss: 0.5920 - accuracy: 0.8030\n",
      "Epoch 15/50\n",
      "5/5 [==============================] - 0s 56ms/step - loss: 0.3991 - accuracy: 0.8709\n",
      "Epoch 16/50\n",
      "5/5 [==============================] - 0s 56ms/step - loss: 0.3805 - accuracy: 0.8448\n",
      "Epoch 17/50\n",
      "5/5 [==============================] - 0s 55ms/step - loss: 0.3598 - accuracy: 0.8168\n",
      "Epoch 18/50\n",
      "5/5 [==============================] - 0s 56ms/step - loss: 0.2707 - accuracy: 0.9065\n",
      "Epoch 19/50\n",
      "5/5 [==============================] - 0s 73ms/step - loss: 0.2655 - accuracy: 0.9003\n",
      "Epoch 20/50\n",
      "5/5 [==============================] - 0s 62ms/step - loss: 0.3163 - accuracy: 0.8978\n",
      "Epoch 21/50\n",
      "5/5 [==============================] - 0s 75ms/step - loss: 0.3257 - accuracy: 0.8858\n",
      "Epoch 22/50\n",
      "5/5 [==============================] - 0s 60ms/step - loss: 0.2334 - accuracy: 0.9413\n",
      "Epoch 23/50\n",
      "5/5 [==============================] - 0s 74ms/step - loss: 0.2025 - accuracy: 0.9290\n",
      "Epoch 24/50\n",
      "5/5 [==============================] - 0s 78ms/step - loss: 0.2838 - accuracy: 0.8789\n",
      "Epoch 25/50\n",
      "5/5 [==============================] - 0s 63ms/step - loss: 0.2173 - accuracy: 0.9145\n",
      "Epoch 26/50\n",
      "5/5 [==============================] - 0s 58ms/step - loss: 0.2631 - accuracy: 0.9093\n",
      "Epoch 27/50\n",
      "5/5 [==============================] - 0s 56ms/step - loss: 0.1716 - accuracy: 0.9611\n",
      "Epoch 28/50\n",
      "5/5 [==============================] - 0s 55ms/step - loss: 0.2181 - accuracy: 0.9022\n",
      "Epoch 29/50\n",
      "5/5 [==============================] - 0s 60ms/step - loss: 0.1290 - accuracy: 0.9803\n",
      "Epoch 30/50\n",
      "5/5 [==============================] - 0s 66ms/step - loss: 0.1636 - accuracy: 0.9424\n",
      "Epoch 31/50\n",
      "5/5 [==============================] - 0s 59ms/step - loss: 0.3394 - accuracy: 0.8814\n",
      "Epoch 32/50\n",
      "5/5 [==============================] - 0s 49ms/step - loss: 0.1524 - accuracy: 0.9443\n",
      "Epoch 33/50\n",
      "5/5 [==============================] - 0s 54ms/step - loss: 0.1710 - accuracy: 0.9380\n",
      "Epoch 34/50\n",
      "5/5 [==============================] - 0s 56ms/step - loss: 0.2647 - accuracy: 0.9360\n",
      "Epoch 35/50\n",
      "5/5 [==============================] - 0s 94ms/step - loss: 0.2016 - accuracy: 0.9543\n",
      "Epoch 36/50\n",
      "5/5 [==============================] - 0s 60ms/step - loss: 0.1133 - accuracy: 0.9618\n",
      "Epoch 37/50\n",
      "5/5 [==============================] - 0s 58ms/step - loss: 0.1315 - accuracy: 0.9437\n",
      "Epoch 38/50\n",
      "5/5 [==============================] - 0s 68ms/step - loss: 0.0604 - accuracy: 1.0000\n",
      "Epoch 39/50\n",
      "5/5 [==============================] - 0s 70ms/step - loss: 0.0508 - accuracy: 1.0000\n",
      "Epoch 40/50\n",
      "5/5 [==============================] - 0s 71ms/step - loss: 0.0430 - accuracy: 1.0000\n",
      "Epoch 41/50\n",
      "5/5 [==============================] - 0s 80ms/step - loss: 0.0358 - accuracy: 1.0000\n",
      "Epoch 42/50\n",
      "5/5 [==============================] - 0s 73ms/step - loss: 0.0290 - accuracy: 1.0000\n",
      "Epoch 43/50\n",
      "5/5 [==============================] - 0s 65ms/step - loss: 0.0309 - accuracy: 1.0000\n",
      "Epoch 44/50\n",
      "5/5 [==============================] - 0s 73ms/step - loss: 0.0139 - accuracy: 1.0000\n",
      "Epoch 45/50\n",
      "5/5 [==============================] - 0s 71ms/step - loss: 0.0951 - accuracy: 0.9830\n",
      "Epoch 46/50\n",
      "5/5 [==============================] - 0s 64ms/step - loss: 0.2351 - accuracy: 0.9501\n",
      "Epoch 47/50\n",
      "5/5 [==============================] - 0s 64ms/step - loss: 0.1808 - accuracy: 0.9505\n",
      "Epoch 48/50\n",
      "5/5 [==============================] - 0s 45ms/step - loss: 0.0426 - accuracy: 0.9880\n",
      "Epoch 49/50\n",
      "5/5 [==============================] - 0s 64ms/step - loss: 0.0328 - accuracy: 0.9962\n",
      "Epoch 50/50\n",
      "5/5 [==============================] - 0s 72ms/step - loss: 0.0266 - accuracy: 1.0000\n"
     ]
    },
    {
     "data": {
      "text/plain": [
       "<tensorflow.python.keras.callbacks.History at 0x7fe53fe2e850>"
      ]
     },
     "execution_count": 8,
     "metadata": {},
     "output_type": "execute_result"
    }
   ],
   "source": [
    "model.fit(X_train_indices, Y_train_oh, epochs = 50, batch_size = 32, shuffle=True)"
   ]
  },
  {
   "cell_type": "code",
   "execution_count": 9,
   "id": "neither-nightlife",
   "metadata": {},
   "outputs": [
    {
     "name": "stdout",
     "output_type": "stream",
     "text": [
      "2/2 [==============================] - 1s 27ms/step - loss: 0.6148 - accuracy: 0.8214\n",
      "\n",
      "Test accuracy =  0.8214285969734192\n"
     ]
    }
   ],
   "source": [
    "X_test_indices = sentences_to_indices(X_test, word_to_index, max_len = maxLen)\n",
    "Y_test_oh = convert_to_one_hot(Y_test, C = 5)\n",
    "loss, acc = model.evaluate(X_test_indices, Y_test_oh)\n",
    "print()\n",
    "print(\"Test accuracy = \", acc)"
   ]
  },
  {
   "cell_type": "code",
   "execution_count": 10,
   "id": "prescription-outline",
   "metadata": {},
   "outputs": [
    {
     "name": "stdout",
     "output_type": "stream",
     "text": [
      "please love me :) 😞\n"
     ]
    }
   ],
   "source": [
    "# enter your sentences here\n",
    "x_test = np.array(['please love me :)'])\n",
    "X_test_indices = sentences_to_indices(x_test, word_to_index, maxLen)\n",
    "print(x_test[0] +' '+  label_to_emoji(np.argmax(model.predict(X_test_indices))))"
   ]
  },
  {
   "cell_type": "code",
   "execution_count": 11,
   "id": "distant-capital",
   "metadata": {},
   "outputs": [
    {
     "name": "stdout",
     "output_type": "stream",
     "text": [
      "life is wonderful 😄\n"
     ]
    }
   ],
   "source": [
    "x_test = np.array(['life is wonderful'])\n",
    "X_test_indices = sentences_to_indices(x_test, word_to_index, maxLen)\n",
    "print(x_test[0] +' '+  label_to_emoji(np.argmax(model.predict(X_test_indices))))"
   ]
  },
  {
   "cell_type": "code",
   "execution_count": null,
   "id": "dirty-singing",
   "metadata": {},
   "outputs": [],
   "source": []
  }
 ],
 "metadata": {
  "kernelspec": {
   "display_name": "py37",
   "language": "python",
   "name": "py37"
  },
  "language_info": {
   "codemirror_mode": {
    "name": "ipython",
    "version": 3
   },
   "file_extension": ".py",
   "mimetype": "text/x-python",
   "name": "python",
   "nbconvert_exporter": "python",
   "pygments_lexer": "ipython3",
   "version": "3.7.10"
  }
 },
 "nbformat": 4,
 "nbformat_minor": 5
}
